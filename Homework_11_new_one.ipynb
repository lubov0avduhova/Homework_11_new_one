{
 "cells": [
  {
   "cell_type": "code",
   "execution_count": null,
   "id": "8cf3da80",
   "metadata": {},
   "outputs": [],
   "source": [
    "# f(x) = -12x^4*sin(cos(x)) - 18x^3+5x^2 + 10x - 30\n",
    "\n",
    "#Определить корни\n",
    "#Найти интервалы, на которых функция возрастает\n",
    "#Найти интервалы, на которых функция убывает\n",
    "#Построить график\n",
    "#Вычислить вершину\n",
    "#Определить промежутки, на котором f > 0\n",
    "#Определить промежутки, на котором f < 0"
   ]
  },
  {
   "cell_type": "code",
   "execution_count": 66,
   "id": "84b19b03",
   "metadata": {},
   "outputs": [
    {
     "name": "stdout",
     "output_type": "stream",
     "text": [
      "[-1.1805072 +0.22214088j -1.1805072 -0.22214088j  0.54041413+0.j\n",
      "  0.32060028+0.j        ]\n"
     ]
    }
   ],
   "source": [
    "#Определить корни\n",
    "import sympy\n",
    "import numpy\n",
    "\n",
    "print(numpy.roots([-12, -18, 5, 10, -3]))"
   ]
  },
  {
   "cell_type": "code",
   "execution_count": null,
   "id": "96182729",
   "metadata": {},
   "outputs": [],
   "source": [
    "#Построить график\n",
    "import matplotlib.pyplot as plt\n",
    "\n",
    "x = [-12*x**4*sin(cos(x))-18*x**3+5*x**2+10*x-30 for x in range(-10, 11)]\n",
    "y = [y for y in range(-10, 11)]\n",
    "plt.plot(y, x)\n",
    "plt.show()"
   ]
  },
  {
   "cell_type": "code",
   "execution_count": 64,
   "id": "1c0f2548",
   "metadata": {},
   "outputs": [
    {
     "name": "stdout",
     "output_type": "stream",
     "text": [
      "((-oo < x) & (x < CRootOf(24*x**3 + 27*x**2 - 5*x - 5, 0))) | ((x < CRootOf(24*x**3 + 27*x**2 - 5*x - 5, 2)) & (CRootOf(24*x**3 + 27*x**2 - 5*x - 5, 1) < x))\n"
     ]
    }
   ],
   "source": [
    "#Найти интервалы, на которых функция возрастает\n",
    "#Определить промежутки, на котором f > 0\n",
    "\n",
    "\n",
    "from sympy import *\n",
    "from math import *\n",
    "\n",
    "x = symbols('x')\n",
    "result_sin = sin(cos(1))\n",
    "\n",
    "f = -12*x**4-18*x**3+5*x**2+10*x-30\n",
    "f_d = f.diff(x)\n",
    "print(solve(f_d > 0, x))\n",
    "\n"
   ]
  },
  {
   "cell_type": "code",
   "execution_count": null,
   "id": "dba980d5",
   "metadata": {},
   "outputs": [],
   "source": [
    "#Найти интервалы, на которых функция убывает\n",
    "#Определить промежутки, на котором f < 0\n",
    "from sympy import *\n",
    "from math import *\n",
    "\n",
    "x = symbols('x')\n",
    "result_sin = sin(cos(1))\n",
    "\n",
    "f = -12*x**4-18*x**3+5*x**2+10*x-30\n",
    "f_d = f.diff(x)\n",
    "print(solve(f_d < 0, x))"
   ]
  },
  {
   "cell_type": "code",
   "execution_count": 65,
   "id": "dfc4c22e",
   "metadata": {},
   "outputs": [
    {
     "name": "stdout",
     "output_type": "stream",
     "text": [
      "[-3/8 + (-1/2 - sqrt(3)*I/2)*(19/1536 + sqrt(108895)*I/3456)**(1/3) + 121/(576*(-1/2 - sqrt(3)*I/2)*(19/1536 + sqrt(108895)*I/3456)**(1/3)), -3/8 + 121/(576*(-1/2 + sqrt(3)*I/2)*(19/1536 + sqrt(108895)*I/3456)**(1/3)) + (-1/2 + sqrt(3)*I/2)*(19/1536 + sqrt(108895)*I/3456)**(1/3), -3/8 + 121/(576*(19/1536 + sqrt(108895)*I/3456)**(1/3)) + (19/1536 + sqrt(108895)*I/3456)**(1/3)]\n"
     ]
    }
   ],
   "source": [
    "#Вычислить вершину\n",
    "from sympy import *\n",
    "from math import *\n",
    "\n",
    "x = symbols('x')\n",
    "result_sin = sin(cos(1))\n",
    "\n",
    "f = -12*x**4-18*x**3+5*x**2+10*x-30\n",
    "f_d = f.diff(x)\n",
    "print(solve(f_d, x))\n"
   ]
  },
  {
   "cell_type": "code",
   "execution_count": null,
   "id": "a44ea3ef",
   "metadata": {},
   "outputs": [],
   "source": []
  },
  {
   "cell_type": "code",
   "execution_count": null,
   "id": "bb23562a",
   "metadata": {},
   "outputs": [],
   "source": []
  },
  {
   "cell_type": "code",
   "execution_count": null,
   "id": "bd21c0a1",
   "metadata": {},
   "outputs": [],
   "source": []
  }
 ],
 "metadata": {
  "kernelspec": {
   "display_name": "Python 3 (ipykernel)",
   "language": "python",
   "name": "python3"
  },
  "language_info": {
   "codemirror_mode": {
    "name": "ipython",
    "version": 3
   },
   "file_extension": ".py",
   "mimetype": "text/x-python",
   "name": "python",
   "nbconvert_exporter": "python",
   "pygments_lexer": "ipython3",
   "version": "3.10.7"
  }
 },
 "nbformat": 4,
 "nbformat_minor": 5
}
